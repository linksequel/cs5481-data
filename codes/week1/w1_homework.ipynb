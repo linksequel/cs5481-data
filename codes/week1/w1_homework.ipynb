{
 "cells": [
  {
   "cell_type": "markdown",
   "id": "08339682",
   "metadata": {},
   "source": [
    "###   ID-72405483\n",
    "### Author-Qiulin Su"
   ]
  },
  {
   "cell_type": "markdown",
   "id": "5c0732fa",
   "metadata": {},
   "source": [
    "# Train of thought\n",
    "1. 对https://movie.douban.com/top250 F12获取单个电影样例分析结构，难点在于正则表达提取主演导演那行信息\n",
    "2. 保存csv，分析行列。\n",
    "3. 熟悉pandas常用几个方法nlargest\\groupby\\agg\\explode"
   ]
  },
  {
   "cell_type": "markdown",
   "id": "b2d3c881",
   "metadata": {},
   "source": [
    "<div class=\"item\">\n",
    "    <div class=\"pic\">\n",
    "        <em class=\"\">1</em>\n",
    "        <a href=\"https://movie.douban.com/subject/1292052/\">\n",
    "            <img alt=\"肖申克的救赎\" class=\"\" src=\"https://img3.doubanio.com/view/photo/s_ratio_poster/public/p480747492.jpg\" width=\"100\" />\n",
    "        </a>\n",
    "    </div>\n",
    "    <div class=\"info\">\n",
    "        <div class=\"hd\">\n",
    "            <a class=\"\" href=\"https://movie.douban.com/subject/1292052/\">\n",
    "                <span class=\"title\">肖申克的救赎</span>\n",
    "                <span class=\"title\"> / The Shawshank Redemption</span>\n",
    "                <span class=\"other\"> / 月黑高飞(港) / 刺激1995(台)</span>\n",
    "            </a>\n",
    "            <span class=\"playable\">[可播放]</span>\n",
    "        </div>\n",
    "        <div class=\"bd\">\n",
    "            <p class=\"\">\n",
    "                导演: 弗兰克·德拉邦特 Frank Darabont   主演: 蒂姆·罗宾斯 Tim Robbins /...<br />\n",
    "                1994 / 美国 / 犯罪 剧情\n",
    "            </p>\n",
    "            <div class=\"star\">\n",
    "                <span class=\"rating5-t\"></span>\n",
    "                <span class=\"rating_num\" property=\"v:average\">9.7</span>\n",
    "                <span content=\"10.0\" property=\"v:best\"></span>\n",
    "                <span>3111801人评价</span>\n",
    "            </div>\n",
    "            <p class=\"quote\">\n",
    "                <span class=\"inq\">希望让人自由。</span>\n",
    "            </p>\n",
    "        </div>\n",
    "    </div>\n",
    "</div>"
   ]
  },
  {
   "cell_type": "markdown",
   "metadata": {},
   "source": [
    "# Part 1: Web Scraping\n",
    "## Web Scraping\n",
    "### Task: Scrap the following information from IMDb Top 250 movies:\n",
    "\n",
    "#### 1. Name\n",
    "#### 2. Rating\n",
    "#### 3. Number of votes\n",
    "#### 4. Release year\n",
    "#### 5. Country/Region\n",
    "#### 6. Genre"
   ]
  },
  {
   "cell_type": "code",
   "execution_count": 3,
   "id": "15fb4ae2",
   "metadata": {
    "collapsed": true
   },
   "outputs": [
    {
     "name": "stdout",
     "output_type": "stream",
     "text": [
      "{'rank': '1', 'name': '肖申克的救赎', 'rating': '9.7', 'votes': '3131952', 'year': '1994', 'country': ['美国'], 'genre': ['犯罪', '剧情']}\n",
      "{'rank': '26', 'name': '末代皇帝', 'rating': '9.3', 'votes': '974766', 'year': '1987', 'country': ['英国', '意大利', '中国大陆', '法国'], 'genre': ['剧情', '传记', '历史']}\n",
      "{'rank': '51', 'name': '闻香识女人', 'rating': '9.1', 'votes': '974198', 'year': '1992', 'country': ['美国'], 'genre': ['剧情']}\n",
      "{'rank': '76', 'name': '拯救大兵瑞恩', 'rating': '9.1', 'votes': '695720', 'year': '1998', 'country': ['美国'], 'genre': ['剧情', '战争']}\n",
      "{'rank': '101', 'name': '7号房的礼物', 'rating': '8.9', 'votes': '599695', 'year': '2013', 'country': ['韩国'], 'genre': ['剧情', '喜剧', '家庭']}\n",
      "{'rank': '126', 'name': '阳光灿烂的日子', 'rating': '8.8', 'votes': '665114', 'year': '1994', 'country': ['中国大陆', '中国香港'], 'genre': ['剧情', '爱情']}\n",
      "{'rank': '151', 'name': '喜宴', 'rating': '9.0', 'votes': '404603', 'year': '1993', 'country': ['中国台湾', '美国'], 'genre': ['剧情', '喜剧', '爱情', '同性', '家庭']}\n",
      "{'rank': '176', 'name': '海街日记', 'rating': '8.8', 'votes': '495652', 'year': '2015', 'country': ['日本'], 'genre': ['剧情', '家庭']}\n",
      "{'rank': '201', 'name': '贫民窟的百万富翁', 'rating': '8.6', 'votes': '786736', 'year': '2008', 'country': ['英国'], 'genre': ['剧情', '爱情']}\n",
      "{'rank': '226', 'name': '恋恋笔记本', 'rating': '8.5', 'votes': '722642', 'year': '2004', 'country': ['美国'], 'genre': ['剧情', '爱情']}\n"
     ]
    }
   ],
   "source": [
    "import requests\n",
    "from bs4 import BeautifulSoup\n",
    "import pandas as pd\n",
    "import re\n",
    "\n",
    "def get_page_movies(url, headers):\n",
    "    response = requests.get(url, headers=headers)\n",
    "    soup = BeautifulSoup(response.text, 'html.parser')\n",
    "    # Get movie list\n",
    "    pages_items = soup.find_all('div', class_='item')\n",
    "    # Parse data...\n",
    "    return pages_items\n",
    "\n",
    "def extract_from_per_movie(per_movie):\n",
    "    def deal_special_element():\n",
    "        # 获取电影导演、演员、年份、上映地区等信息\n",
    "        special_info = per_movie.find('div', class_='bd').find('p').text.strip()\n",
    "        # 这条数据包含了很多信息，需要使用正则拆分开\n",
    "        pattern = re.compile(r\"(\\d{4})\\s*(?:\\([^)]+\\))?\\s*/\\s*([a-zA-Z\\u4e00-\\u9fa5]+(?:\\s+[a-zA-Z\\u4e00-\\u9fa5]+)*)\\s*/\\s*([a-zA-Z\\u4e00-\\u9fa5\\s]+)\")\n",
    "        match = re.search(pattern, special_info)\n",
    "        special_dict = {}\n",
    "        if match:\n",
    "            year = match.group(1).strip()\n",
    "            countries = match.group(2).strip().split()\n",
    "            genres = match.group(3).strip().split()\n",
    "            # special_dict = {'director': director, 'actors': actors, 'release_year': year, 'country': countries, 'genre': genres}\n",
    "            special_dict = {'year': year, 'country': countries, 'genre': genres}\n",
    "        return special_dict\n",
    "    \n",
    "    def convert2number(votes_str):\n",
    "        pattern = re.compile(r'\\d+')\n",
    "        match = pattern.search(votes_str)\n",
    "        return match.group() if match else votes_str\n",
    "    \n",
    "    # 获取排名\n",
    "    rank = per_movie.find('em').text.strip()\n",
    "    # 获取电影标题\n",
    "    title = per_movie.find('span', class_='title').text.strip()\n",
    "    # 获取评分信息\n",
    "    rating_num = per_movie.find('span', class_='rating_num').text.strip()\n",
    "    # 获取评价人数信息\n",
    "    votes_str = per_movie.find('div', class_='star').find_all('span')[3].text.strip()\n",
    "    need_data = {'rank': rank, 'name': title, 'rating': rating_num, 'votes': convert2number(votes_str)}\n",
    "    \n",
    "    special_dict = deal_special_element()\n",
    "    need_data.update(special_dict)\n",
    "    return need_data\n",
    "\n",
    "if __name__ == \"__main__\":\n",
    "    headers = {'User-Agent': 'Mozilla/5.0 (Macintosh; Intel Mac OS X 10_15_7) AppleWebKit/537.36 (KHTML, like Gecko) Chrome/131.0.0.0 Safari/537.36 Edg/131.0.0.0'}\n",
    "    base_url = 'https://movie.douban.com/top250?start={start}'\n",
    "    base_number, page_size = 0, 25\n",
    "    url_list = []\n",
    "    # 每个电影包含的6个特征，按排名排序\n",
    "    ranked_movie_list = []\n",
    "    for index in range(0, 10):\n",
    "        url_list.append(base_url.format(start=base_number))\n",
    "        base_number += page_size\n",
    "\n",
    "    for url in url_list:\n",
    "        page_movies = get_page_movies(url, headers=headers)\n",
    "        #每页25个电影，只有第一个抽样打印\n",
    "        for index in range(len(page_movies)):\n",
    "            per_need_data = extract_from_per_movie(page_movies[index])\n",
    "            if index == 0:\n",
    "                print(per_need_data)\n",
    "            ranked_movie_list.append(per_need_data)\n",
    "    # 将数据保存为 CSV 文件\n",
    "    df = pd.DataFrame(ranked_movie_list)\n",
    "    df.to_csv('douban.csv', index=False)"
   ]
  },
  {
   "cell_type": "markdown",
   "id": "8be290b0",
   "metadata": {},
   "source": [
    "# Part 2: Basic Data Analysis Tasks\n",
    "\n",
    "## Data Cleaning and Statistics\n",
    "### Task: Calculate the average rating of all movies and find the top 5 highest-rated movies."
   ]
  },
  {
   "cell_type": "code",
   "execution_count": 4,
   "id": "6e6d1e82",
   "metadata": {
    "collapsed": true
   },
   "outputs": [
    {
     "name": "stdout",
     "output_type": "stream",
     "text": [
      "8.939200000000001\n",
      "[1 '肖申克的救赎' 9.7 3131952 1994 \"['美国']\" \"['犯罪', '剧情']\"]\n",
      "[2 '霸王别姬' 9.6 2310671 1993 \"['中国大陆', '中国香港']\" \"['剧情', '爱情', '同性']\"]\n",
      "[19 '控方证人' 9.6 655732 1957 \"['美国']\" \"['剧情', '犯罪', '悬疑', '惊悚']\"]\n",
      "[121 '茶馆' 9.6 185520 1982 \"['中国大陆']\" \"['剧情', '历史']\"]\n",
      "[3 '泰坦尼克号' 9.5 2372906 1997 \"['美国', '墨西哥']\" \"['剧情', '爱情', '灾难']\"]\n"
     ]
    }
   ],
   "source": [
    "df = pd.read_csv('douban.csv')\n",
    "# Calculate mean rating\n",
    "mean_rating = df['rating'].mean()\n",
    "# Find top 5 movies\n",
    "top5list = df.nlargest(5, 'rating')\n",
    "print(mean_rating)\n",
    "\n",
    "for mv in top5list.values:\n",
    "    print(mv)"
   ]
  },
  {
   "cell_type": "markdown",
   "id": "365a00d3",
   "metadata": {},
   "source": [
    "## Decade Analysis\n",
    "### Task: Group movies by decades (1990s, 2000s, 2010s, etc.) and calculate the number of movies and average rating for each decade."
   ]
  },
  {
   "cell_type": "code",
   "execution_count": 5,
   "id": "47c29a31",
   "metadata": {
    "collapsed": true
   },
   "outputs": [
    {
     "name": "stdout",
     "output_type": "stream",
     "text": [
      "        num_movies  avg_rating\n",
      "decade                        \n",
      "1930             3    9.300000\n",
      "1940             1    8.800000\n",
      "1950             6    9.216667\n",
      "1960             4    8.975000\n",
      "1970             5    9.260000\n",
      "1980            16    9.075000\n",
      "1990            55    9.025455\n",
      "2000            78    8.908974\n",
      "2010            79    8.830380\n",
      "2020             3    8.833333\n"
     ]
    }
   ],
   "source": [
    "# 1994 belongs to 1990\n",
    "df['decade'] = (df['year'] // 10) * 10\n",
    "# 按年代分组，并计算每组的电影数量和平均评分\n",
    "decade_stats = df.groupby('decade').agg(\n",
    "    num_movies=('name', 'count'),\n",
    "    avg_rating=('rating', 'mean')\n",
    ")\n",
    "print(decade_stats)"
   ]
  },
  {
   "cell_type": "markdown",
   "id": "e60cd508",
   "metadata": {},
   "source": [
    "## Genre Analysis\n",
    "### Task: Count the number of movies in each genre (note that a movie can have multiple genres)."
   ]
  },
  {
   "cell_type": "code",
   "execution_count": 6,
   "id": "5dbb9d54",
   "metadata": {
    "collapsed": true
   },
   "outputs": [
    {
     "name": "stdout",
     "output_type": "stream",
     "text": [
      "每个类型的电影数量：\n",
      "new_genre\n",
      "剧情     187\n",
      "爱情      56\n",
      "喜剧      53\n",
      "冒险      50\n",
      "奇幻      44\n",
      "犯罪      41\n",
      "动画      40\n",
      "惊悚      34\n",
      "动作      31\n",
      "悬疑      30\n",
      "科幻      23\n",
      "家庭      19\n",
      "传记      16\n",
      "战争      15\n",
      "古装      10\n",
      "历史       9\n",
      "音乐       8\n",
      "同性       8\n",
      "歌舞       7\n",
      "儿童       4\n",
      "武侠       4\n",
      "灾难       2\n",
      "西部       2\n",
      "运动       2\n",
      "情色       2\n",
      "恐怖       2\n",
      "纪录片      1\n"
     ]
    }
   ],
   "source": [
    "# Hint code\n",
    "import ast\n",
    "df['new_genre'] = df['genre'].apply(ast.literal_eval)\n",
    "# 展开 genre 列，使得每一行只包含一个 genre\n",
    "exploded_df = df.explode('new_genre')\n",
    "# 按 genre 统计电影数量\n",
    "genre_counts = exploded_df['new_genre'].value_counts()\n",
    "print(\"每个类型的电影数量：\")\n",
    "print(genre_counts.to_string())"
   ]
  },
  {
   "cell_type": "markdown",
   "id": "fd25de39",
   "metadata": {},
   "source": [
    "## Country Analysis\n",
    "### Task: Find the top three countries with the largest number of movies and calculate their average ratings."
   ]
  },
  {
   "cell_type": "code",
   "execution_count": 8,
   "id": "014f8e2d",
   "metadata": {},
   "outputs": [
    {
     "name": "stdout",
     "output_type": "stream",
     "text": [
      "             Movie_Count  Average_Rating\n",
      "new_country                             \n",
      "美国                   144        8.925000\n",
      "英国                    39        8.894872\n",
      "日本                    35        8.922857\n"
     ]
    }
   ],
   "source": [
    "# 将 country 列转换为 Python 列表\n",
    "df['new_country'] = df['country'].apply(eval)\n",
    "\n",
    "# 拆分 country 列，将每个国家作为单独的一行\n",
    "country_df = df.explode('new_country')\n",
    "\n",
    "# 使用 groupby 和 agg 方法，统计电影数量并计算平均评分\n",
    "result = (\n",
    "    country_df.groupby('new_country')\n",
    "    .agg(\n",
    "        Movie_Count=('name', 'count'),  # 统计电影数量\n",
    "        Average_Rating=('rating', 'mean')  # 计算平均评分\n",
    "    )\n",
    "    .sort_values(by='Movie_Count', ascending=False)  # 按电影数量排序\n",
    "    .head(3)  # 取前 3 个国家\n",
    ")\n",
    "\n",
    "print(result)"
   ]
  },
  {
   "cell_type": "markdown",
   "metadata": {},
   "source": [
    "## Correlation Analysis\n",
    "### Task: Analyze the correlation between movie ratings and number of votes, and create a scatter plot."
   ]
  },
  {
   "cell_type": "code",
   "execution_count": 10,
   "metadata": {
    "collapsed": true
   },
   "outputs": [
    {
     "name": "stdout",
     "output_type": "stream",
     "text": [
      "Correlation between movie rating and number of votes: 0.2911556385748591\n"
     ]
    },
    {
     "data": {
      "image/png": "[encoded data removed]",
      "text/plain": [
       "<Figure size 800x600 with 1 Axes>"
      ]
     },
     "metadata": {},
     "output_type": "display_data"
    }
   ],
   "source": [
    "import matplotlib.pyplot as plt\n",
    "# 确保 'rating' 和 'votes' 列为数值类型\n",
    "df['rating'] = pd.to_numeric(df['rating'], errors='coerce')\n",
    "df['votes'] = pd.to_numeric(df['votes'], errors='coerce')\n",
    "\n",
    "# 计算评分与投票数量之间的相关性\n",
    "correlation = df[['rating', 'votes']].corr().iloc[0, 1]\n",
    "print(f\"Correlation between movie rating and number of votes: {correlation}\")\n",
    "\n",
    "# 创建散点图\n",
    "plt.figure(figsize=(8, 6))\n",
    "plt.scatter(df['votes'], df['rating'], alpha=0.5, color='b')\n",
    "plt.title('Correlation between Movie Ratings and Number of Votes')\n",
    "plt.xlabel('Number of Votes')\n",
    "plt.ylabel('Rating')\n",
    "plt.grid(True)\n",
    "plt.show()"
   ]
  },
  {
   "cell_type": "markdown",
   "metadata": {},
   "source": [
    "## I encourage to attempt each task independently before referring to the hint code. Each task can be extended further, such as adding more detailed analysis or improving visualizations."
   ]
  }
 ],
 "metadata": {
  "kernelspec": {
   "display_name": "cityu",
   "language": "python",
   "name": "python3"
  },
  "language_info": {
   "codemirror_mode": {
    "name": "ipython",
    "version": 3
   },
   "file_extension": ".py",
   "mimetype": "text/x-python",
   "name": "python",
   "nbconvert_exporter": "python",
   "pygments_lexer": "ipython3",
   "version": "3.12.4"
  }
 },
 "nbformat": 4,
 "nbformat_minor": 5
}
